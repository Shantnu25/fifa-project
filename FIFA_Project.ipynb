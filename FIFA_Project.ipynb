{
  "nbformat": 4,
  "nbformat_minor": 0,
  "metadata": {
    "kernelspec": {
      "display_name": "Python 3",
      "language": "python",
      "name": "python3"
    },
    "language_info": {
      "codemirror_mode": {
        "name": "ipython",
        "version": 3
      },
      "file_extension": ".py",
      "mimetype": "text/x-python",
      "name": "python",
      "nbconvert_exporter": "python",
      "pygments_lexer": "ipython3",
      "version": "3.7.3"
    },
    "colab": {
      "name": "FIFA_Project.ipynb",
      "provenance": [],
      "toc_visible": true
    }
  },
  "cells": [
    {
      "cell_type": "code",
      "metadata": {
        "id": "gIPmB9O-WJwv",
        "colab": {
          "base_uri": "https://localhost:8080/"
        },
        "outputId": "4614e93b-af4d-4e49-c31d-13f788deecc0"
      },
      "source": [
        "#Using Goole Colab : Mounting google drive\n",
        "from google.colab import drive\n",
        "drive.mount('/content/drive')"
      ],
      "execution_count": 2,
      "outputs": [
        {
          "output_type": "stream",
          "text": [
            "Drive already mounted at /content/drive; to attempt to forcibly remount, call drive.mount(\"/content/drive\", force_remount=True).\n"
          ],
          "name": "stdout"
        }
      ]
    },
    {
      "cell_type": "code",
      "metadata": {
        "id": "iuPdpIYtWNKA"
      },
      "source": [
        "#Import modules\n",
        "\n",
        "import pandas as pd\n",
        "import numpy as np\n",
        "import matplotlib.pyplot as plt\n",
        "from sklearn.linear_model import LinearRegression\n",
        "from sklearn.model_selection import train_test_split \n",
        "from sklearn.metrics import mean_squared_error, r2_score\n",
        "from sklearn.preprocessing import PolynomialFeatures\n",
        "import seaborn as sns"
      ],
      "execution_count": 3,
      "outputs": []
    },
    {
      "cell_type": "markdown",
      "metadata": {
        "id": "O2UTvh_EcSKj"
      },
      "source": [
        "##Problem Statement\n",
        "```\n",
        "To find out the best squad for the upcoming FIFA football championship. \n",
        "```"
      ]
    },
    {
      "cell_type": "code",
      "metadata": {
        "colab": {
          "base_uri": "https://localhost:8080/",
          "height": 332
        },
        "id": "i5gtSCcdkydQ",
        "outputId": "e0b60591-e2bb-4002-ef25-34f439d0ade2"
      },
      "source": [
        "#Feature Description\n",
        "feat_desc= pd.read_excel('/content/drive/MyDrive/FIFA_project/DataDictionary.xlsx')\n",
        "feat_desc"
      ],
      "execution_count": 4,
      "outputs": [
        {
          "output_type": "execute_result",
          "data": {
            "text/html": [
              "<div>\n",
              "<style scoped>\n",
              "    .dataframe tbody tr th:only-of-type {\n",
              "        vertical-align: middle;\n",
              "    }\n",
              "\n",
              "    .dataframe tbody tr th {\n",
              "        vertical-align: top;\n",
              "    }\n",
              "\n",
              "    .dataframe thead th {\n",
              "        text-align: right;\n",
              "    }\n",
              "</style>\n",
              "<table border=\"1\" class=\"dataframe\">\n",
              "  <thead>\n",
              "    <tr style=\"text-align: right;\">\n",
              "      <th></th>\n",
              "      <th>Feature</th>\n",
              "      <th>Description</th>\n",
              "    </tr>\n",
              "  </thead>\n",
              "  <tbody>\n",
              "    <tr>\n",
              "      <th>0</th>\n",
              "      <td>Name</td>\n",
              "      <td>Player name</td>\n",
              "    </tr>\n",
              "    <tr>\n",
              "      <th>1</th>\n",
              "      <td>Age</td>\n",
              "      <td>Age of the player</td>\n",
              "    </tr>\n",
              "    <tr>\n",
              "      <th>2</th>\n",
              "      <td>Nationality</td>\n",
              "      <td>Country name</td>\n",
              "    </tr>\n",
              "    <tr>\n",
              "      <th>3</th>\n",
              "      <td>Overall</td>\n",
              "      <td>Value of the player</td>\n",
              "    </tr>\n",
              "    <tr>\n",
              "      <th>4</th>\n",
              "      <td>Potential</td>\n",
              "      <td>Strength of the player</td>\n",
              "    </tr>\n",
              "    <tr>\n",
              "      <th>5</th>\n",
              "      <td>Club</td>\n",
              "      <td>Club name of the player</td>\n",
              "    </tr>\n",
              "    <tr>\n",
              "      <th>6</th>\n",
              "      <td>Value (M)</td>\n",
              "      <td>Income</td>\n",
              "    </tr>\n",
              "    <tr>\n",
              "      <th>7</th>\n",
              "      <td>Position</td>\n",
              "      <td>Position of the player</td>\n",
              "    </tr>\n",
              "    <tr>\n",
              "      <th>8</th>\n",
              "      <td>Wage (M)</td>\n",
              "      <td>Monthly income</td>\n",
              "    </tr>\n",
              "  </tbody>\n",
              "</table>\n",
              "</div>"
            ],
            "text/plain": [
              "       Feature              Description\n",
              "0         Name              Player name\n",
              "1          Age        Age of the player\n",
              "2  Nationality             Country name\n",
              "3      Overall      Value of the player\n",
              "4    Potential   Strength of the player\n",
              "5         Club  Club name of the player\n",
              "6    Value (M)                   Income\n",
              "7     Position   Position of the player\n",
              "8     Wage (M)           Monthly income"
            ]
          },
          "metadata": {
            "tags": []
          },
          "execution_count": 4
        }
      ]
    },
    {
      "cell_type": "markdown",
      "metadata": {
        "id": "q0oJjT0MWJxI"
      },
      "source": [
        "### Load the dataset\n"
      ]
    },
    {
      "cell_type": "code",
      "metadata": {
        "id": "SCT8aptEWJxM"
      },
      "source": [
        "# Read the dataset and extract the test  and train data separately\n",
        "df_train=pd.read_csv('/content/drive/My Drive/FIFA_project/train.csv')\n",
        "df_test=pd.read_csv('/content/drive/My Drive/FIFA_project/test.csv')\n",
        "\n",
        "# Dropping Ids\n",
        "train_id = df_train['Id']\n",
        "\n",
        "df_train.drop(['Id'], axis=1, inplace=True)\n"
      ],
      "execution_count": 5,
      "outputs": []
    },
    {
      "cell_type": "code",
      "metadata": {
        "id": "I42RwIJqXKxR",
        "colab": {
          "base_uri": "https://localhost:8080/",
          "height": 206
        },
        "outputId": "61dc4fbb-ae5f-42c7-be5d-69cab9cc8496"
      },
      "source": [
        "# Examine first 5 rows\n",
        "df_train.head()"
      ],
      "execution_count": 6,
      "outputs": [
        {
          "output_type": "execute_result",
          "data": {
            "text/html": [
              "<div>\n",
              "<style scoped>\n",
              "    .dataframe tbody tr th:only-of-type {\n",
              "        vertical-align: middle;\n",
              "    }\n",
              "\n",
              "    .dataframe tbody tr th {\n",
              "        vertical-align: top;\n",
              "    }\n",
              "\n",
              "    .dataframe thead th {\n",
              "        text-align: right;\n",
              "    }\n",
              "</style>\n",
              "<table border=\"1\" class=\"dataframe\">\n",
              "  <thead>\n",
              "    <tr style=\"text-align: right;\">\n",
              "      <th></th>\n",
              "      <th>Name</th>\n",
              "      <th>Age</th>\n",
              "      <th>Nationality</th>\n",
              "      <th>Overall</th>\n",
              "      <th>Potential</th>\n",
              "      <th>Club</th>\n",
              "      <th>Value (M)</th>\n",
              "      <th>Wage (M)</th>\n",
              "      <th>Position</th>\n",
              "    </tr>\n",
              "  </thead>\n",
              "  <tbody>\n",
              "    <tr>\n",
              "      <th>0</th>\n",
              "      <td>F. Burdenski</td>\n",
              "      <td>25</td>\n",
              "      <td>Germany</td>\n",
              "      <td>54</td>\n",
              "      <td>58</td>\n",
              "      <td>Korona Kielce</td>\n",
              "      <td>0.07</td>\n",
              "      <td>0.001</td>\n",
              "      <td>CDM</td>\n",
              "    </tr>\n",
              "    <tr>\n",
              "      <th>1</th>\n",
              "      <td>A. Deiola</td>\n",
              "      <td>21</td>\n",
              "      <td>Italy</td>\n",
              "      <td>64</td>\n",
              "      <td>73</td>\n",
              "      <td>Cagliari</td>\n",
              "      <td>0.70</td>\n",
              "      <td>0.010</td>\n",
              "      <td>CM</td>\n",
              "    </tr>\n",
              "    <tr>\n",
              "      <th>2</th>\n",
              "      <td>T. Castagne</td>\n",
              "      <td>21</td>\n",
              "      <td>Belgium</td>\n",
              "      <td>72</td>\n",
              "      <td>79</td>\n",
              "      <td>Atalanta</td>\n",
              "      <td>3.70</td>\n",
              "      <td>0.013</td>\n",
              "      <td>RB</td>\n",
              "    </tr>\n",
              "    <tr>\n",
              "      <th>3</th>\n",
              "      <td>D. Gorman</td>\n",
              "      <td>21</td>\n",
              "      <td>Northern Ireland</td>\n",
              "      <td>57</td>\n",
              "      <td>66</td>\n",
              "      <td>Stevenage</td>\n",
              "      <td>0.16</td>\n",
              "      <td>0.002</td>\n",
              "      <td>CM</td>\n",
              "    </tr>\n",
              "    <tr>\n",
              "      <th>4</th>\n",
              "      <td>N. Molina Lucero</td>\n",
              "      <td>19</td>\n",
              "      <td>Argentina</td>\n",
              "      <td>63</td>\n",
              "      <td>75</td>\n",
              "      <td>Boca Juniors</td>\n",
              "      <td>0.55</td>\n",
              "      <td>0.002</td>\n",
              "      <td>LB</td>\n",
              "    </tr>\n",
              "  </tbody>\n",
              "</table>\n",
              "</div>"
            ],
            "text/plain": [
              "               Name  Age       Nationality  ...  Value (M)  Wage (M) Position\n",
              "0      F. Burdenski   25           Germany  ...       0.07     0.001      CDM\n",
              "1         A. Deiola   21             Italy  ...       0.70     0.010       CM\n",
              "2       T. Castagne   21           Belgium  ...       3.70     0.013       RB\n",
              "3         D. Gorman   21  Northern Ireland  ...       0.16     0.002       CM\n",
              "4  N. Molina Lucero   19         Argentina  ...       0.55     0.002       LB\n",
              "\n",
              "[5 rows x 9 columns]"
            ]
          },
          "metadata": {
            "tags": []
          },
          "execution_count": 6
        }
      ]
    },
    {
      "cell_type": "code",
      "metadata": {
        "id": "ampTy6_eXzb5",
        "colab": {
          "base_uri": "https://localhost:8080/"
        },
        "outputId": "3279d0ca-1a29-4df6-92bb-5a5c6d2bb459"
      },
      "source": [
        "# No. of rows and columns\n",
        "print(df_train.shape)\n",
        "\n",
        "# Examine the column names\n",
        "print(df_train.columns)\n"
      ],
      "execution_count": 7,
      "outputs": [
        {
          "output_type": "stream",
          "text": [
            "(14384, 9)\n",
            "Index(['Name', 'Age', 'Nationality', 'Overall', 'Potential', 'Club',\n",
            "       'Value (M)', 'Wage (M)', 'Position'],\n",
            "      dtype='object')\n"
          ],
          "name": "stdout"
        }
      ]
    },
    {
      "cell_type": "code",
      "metadata": {
        "id": "rJBFlRM4X98d",
        "colab": {
          "base_uri": "https://localhost:8080/"
        },
        "outputId": "513cfd26-889e-4d03-a737-06252d654cee"
      },
      "source": [
        "# Examine no. of non null entries, and column datatype\n",
        "df_train.info()"
      ],
      "execution_count": 8,
      "outputs": [
        {
          "output_type": "stream",
          "text": [
            "<class 'pandas.core.frame.DataFrame'>\n",
            "RangeIndex: 14384 entries, 0 to 14383\n",
            "Data columns (total 9 columns):\n",
            " #   Column       Non-Null Count  Dtype  \n",
            "---  ------       --------------  -----  \n",
            " 0   Name         14384 non-null  object \n",
            " 1   Age          14384 non-null  int64  \n",
            " 2   Nationality  14384 non-null  object \n",
            " 3   Overall      14384 non-null  int64  \n",
            " 4   Potential    14384 non-null  int64  \n",
            " 5   Club         14173 non-null  object \n",
            " 6   Value (M)    14384 non-null  float64\n",
            " 7   Wage (M)     14384 non-null  float64\n",
            " 8   Position     14384 non-null  object \n",
            "dtypes: float64(2), int64(3), object(4)\n",
            "memory usage: 1011.5+ KB\n"
          ],
          "name": "stdout"
        }
      ]
    },
    {
      "cell_type": "code",
      "metadata": {
        "id": "uzGJR08Xb09I",
        "colab": {
          "base_uri": "https://localhost:8080/",
          "height": 300
        },
        "outputId": "d313a76b-5297-4344-a84b-9f0c259bf709"
      },
      "source": [
        "#Calculate Summary Statistics\n",
        "df_train.describe()"
      ],
      "execution_count": 9,
      "outputs": [
        {
          "output_type": "execute_result",
          "data": {
            "text/html": [
              "<div>\n",
              "<style scoped>\n",
              "    .dataframe tbody tr th:only-of-type {\n",
              "        vertical-align: middle;\n",
              "    }\n",
              "\n",
              "    .dataframe tbody tr th {\n",
              "        vertical-align: top;\n",
              "    }\n",
              "\n",
              "    .dataframe thead th {\n",
              "        text-align: right;\n",
              "    }\n",
              "</style>\n",
              "<table border=\"1\" class=\"dataframe\">\n",
              "  <thead>\n",
              "    <tr style=\"text-align: right;\">\n",
              "      <th></th>\n",
              "      <th>Age</th>\n",
              "      <th>Overall</th>\n",
              "      <th>Potential</th>\n",
              "      <th>Value (M)</th>\n",
              "      <th>Wage (M)</th>\n",
              "    </tr>\n",
              "  </thead>\n",
              "  <tbody>\n",
              "    <tr>\n",
              "      <th>count</th>\n",
              "      <td>14384.000000</td>\n",
              "      <td>14384.000000</td>\n",
              "      <td>14384.000000</td>\n",
              "      <td>14384.000000</td>\n",
              "      <td>14384.000000</td>\n",
              "    </tr>\n",
              "    <tr>\n",
              "      <th>mean</th>\n",
              "      <td>25.148776</td>\n",
              "      <td>66.237695</td>\n",
              "      <td>71.181869</td>\n",
              "      <td>2.344967</td>\n",
              "      <td>0.011435</td>\n",
              "    </tr>\n",
              "    <tr>\n",
              "      <th>std</th>\n",
              "      <td>4.620911</td>\n",
              "      <td>6.954458</td>\n",
              "      <td>6.074111</td>\n",
              "      <td>5.105376</td>\n",
              "      <td>0.022614</td>\n",
              "    </tr>\n",
              "    <tr>\n",
              "      <th>min</th>\n",
              "      <td>16.000000</td>\n",
              "      <td>46.000000</td>\n",
              "      <td>46.000000</td>\n",
              "      <td>0.000000</td>\n",
              "      <td>0.000000</td>\n",
              "    </tr>\n",
              "    <tr>\n",
              "      <th>25%</th>\n",
              "      <td>21.000000</td>\n",
              "      <td>62.000000</td>\n",
              "      <td>67.000000</td>\n",
              "      <td>0.300000</td>\n",
              "      <td>0.002000</td>\n",
              "    </tr>\n",
              "    <tr>\n",
              "      <th>50%</th>\n",
              "      <td>25.000000</td>\n",
              "      <td>66.000000</td>\n",
              "      <td>71.000000</td>\n",
              "      <td>0.675000</td>\n",
              "      <td>0.004000</td>\n",
              "    </tr>\n",
              "    <tr>\n",
              "      <th>75%</th>\n",
              "      <td>28.000000</td>\n",
              "      <td>71.000000</td>\n",
              "      <td>75.000000</td>\n",
              "      <td>2.100000</td>\n",
              "      <td>0.012000</td>\n",
              "    </tr>\n",
              "    <tr>\n",
              "      <th>max</th>\n",
              "      <td>47.000000</td>\n",
              "      <td>94.000000</td>\n",
              "      <td>94.000000</td>\n",
              "      <td>105.000000</td>\n",
              "      <td>0.565000</td>\n",
              "    </tr>\n",
              "  </tbody>\n",
              "</table>\n",
              "</div>"
            ],
            "text/plain": [
              "                Age       Overall     Potential     Value (M)      Wage (M)\n",
              "count  14384.000000  14384.000000  14384.000000  14384.000000  14384.000000\n",
              "mean      25.148776     66.237695     71.181869      2.344967      0.011435\n",
              "std        4.620911      6.954458      6.074111      5.105376      0.022614\n",
              "min       16.000000     46.000000     46.000000      0.000000      0.000000\n",
              "25%       21.000000     62.000000     67.000000      0.300000      0.002000\n",
              "50%       25.000000     66.000000     71.000000      0.675000      0.004000\n",
              "75%       28.000000     71.000000     75.000000      2.100000      0.012000\n",
              "max       47.000000     94.000000     94.000000    105.000000      0.565000"
            ]
          },
          "metadata": {
            "tags": []
          },
          "execution_count": 9
        }
      ]
    },
    {
      "cell_type": "code",
      "metadata": {
        "colab": {
          "base_uri": "https://localhost:8080/",
          "height": 175
        },
        "id": "cX_3M9LFdxtm",
        "outputId": "fd97f1f7-de02-4a4f-cf3d-028de029b5c8"
      },
      "source": [
        "#Calculate object data summary statistics\n",
        "df_train.describe(include=['object'])"
      ],
      "execution_count": 10,
      "outputs": [
        {
          "output_type": "execute_result",
          "data": {
            "text/html": [
              "<div>\n",
              "<style scoped>\n",
              "    .dataframe tbody tr th:only-of-type {\n",
              "        vertical-align: middle;\n",
              "    }\n",
              "\n",
              "    .dataframe tbody tr th {\n",
              "        vertical-align: top;\n",
              "    }\n",
              "\n",
              "    .dataframe thead th {\n",
              "        text-align: right;\n",
              "    }\n",
              "</style>\n",
              "<table border=\"1\" class=\"dataframe\">\n",
              "  <thead>\n",
              "    <tr style=\"text-align: right;\">\n",
              "      <th></th>\n",
              "      <th>Name</th>\n",
              "      <th>Nationality</th>\n",
              "      <th>Club</th>\n",
              "      <th>Position</th>\n",
              "    </tr>\n",
              "  </thead>\n",
              "  <tbody>\n",
              "    <tr>\n",
              "      <th>count</th>\n",
              "      <td>14384</td>\n",
              "      <td>14384</td>\n",
              "      <td>14173</td>\n",
              "      <td>14384</td>\n",
              "    </tr>\n",
              "    <tr>\n",
              "      <th>unique</th>\n",
              "      <td>13708</td>\n",
              "      <td>158</td>\n",
              "      <td>647</td>\n",
              "      <td>15</td>\n",
              "    </tr>\n",
              "    <tr>\n",
              "      <th>top</th>\n",
              "      <td>J. Rodríguez</td>\n",
              "      <td>England</td>\n",
              "      <td>Villarreal CF</td>\n",
              "      <td>CB</td>\n",
              "    </tr>\n",
              "    <tr>\n",
              "      <th>freq</th>\n",
              "      <td>6</td>\n",
              "      <td>1288</td>\n",
              "      <td>33</td>\n",
              "      <td>2144</td>\n",
              "    </tr>\n",
              "  </tbody>\n",
              "</table>\n",
              "</div>"
            ],
            "text/plain": [
              "                Name Nationality           Club Position\n",
              "count          14384       14384          14173    14384\n",
              "unique         13708         158            647       15\n",
              "top     J. Rodríguez     England  Villarreal CF       CB\n",
              "freq               6        1288             33     2144"
            ]
          },
          "metadata": {
            "tags": []
          },
          "execution_count": 10
        }
      ]
    },
    {
      "cell_type": "markdown",
      "metadata": {
        "id": "t9jw07ThWJxh"
      },
      "source": [
        "### Visualize the data"
      ]
    },
    {
      "cell_type": "code",
      "metadata": {
        "id": "hsUWyQfbWJxj",
        "colab": {
          "base_uri": "https://localhost:8080/",
          "height": 879
        },
        "outputId": "21370c07-197a-4acf-b09e-2af746d02839"
      },
      "source": [
        "# Data distribution\n",
        "\n",
        "data_distribution = df_train.hist(figsize=(15,15))\n",
        "plt.show();\n",
        "\n",
        "# Obs:\n",
        "#Overall, Potential are normally distributed\n",
        "#Age: Majority of Young Players \n",
        "#Wage(M), Value(M) are right skewed\n"
      ],
      "execution_count": 11,
      "outputs": [
        {
          "output_type": "display_data",
          "data": {
            "image/png": "[encoded data removed]",
            "text/plain": [
              "<Figure size 1080x1080 with 6 Axes>"
            ]
          },
          "metadata": {
            "tags": [],
            "needs_background": "light"
          }
        }
      ]
    },
    {
      "cell_type": "code",
      "metadata": {
        "colab": {
          "base_uri": "https://localhost:8080/",
          "height": 296
        },
        "id": "ewXMu0rPhdYz",
        "outputId": "71603100-c364-4355-fd58-8902f80abd5d"
      },
      "source": [
        "#Overall \n",
        "sns.scatterplot(x='Overall', y='Value (M)', data=df_train)\n",
        "\n",
        "# Not Linear Relationship"
      ],
      "execution_count": 12,
      "outputs": [
        {
          "output_type": "execute_result",
          "data": {
            "text/plain": [
              "<matplotlib.axes._subplots.AxesSubplot at 0x7f22a6780550>"
            ]
          },
          "metadata": {
            "tags": []
          },
          "execution_count": 12
        },
        {
          "output_type": "display_data",
          "data": {
            "image/png": "[encoded data removed]",
            "text/plain": [
              "<Figure size 432x288 with 1 Axes>"
            ]
          },
          "metadata": {
            "tags": [],
            "needs_background": "light"
          }
        }
      ]
    },
    {
      "cell_type": "code",
      "metadata": {
        "colab": {
          "base_uri": "https://localhost:8080/",
          "height": 296
        },
        "id": "hDilDrpyhqQ-",
        "outputId": "72f75035-61eb-4692-86c9-a2ad7c39418f"
      },
      "source": [
        "#Potential  \n",
        "sns.scatterplot(x='Potential', y='Value (M)', data=df_train)\n",
        "\n",
        "# Not Linear Relationship"
      ],
      "execution_count": 13,
      "outputs": [
        {
          "output_type": "execute_result",
          "data": {
            "text/plain": [
              "<matplotlib.axes._subplots.AxesSubplot at 0x7f22a66a59b0>"
            ]
          },
          "metadata": {
            "tags": []
          },
          "execution_count": 13
        },
        {
          "output_type": "display_data",
          "data": {
            "image/png": "[encoded data removed]",
            "text/plain": [
              "<Figure size 432x288 with 1 Axes>"
            ]
          },
          "metadata": {
            "tags": [],
            "needs_background": "light"
          }
        }
      ]
    },
    {
      "cell_type": "code",
      "metadata": {
        "colab": {
          "base_uri": "https://localhost:8080/",
          "height": 296
        },
        "id": "bl4Aq1VBhxBw",
        "outputId": "6f7533c8-c5d6-40c5-cb67-c664676a5541"
      },
      "source": [
        "#Wage (M)\n",
        "sns.scatterplot(x='Wage (M)', y='Value (M)', data=df_train)\n",
        "\n",
        "#Linear Relationship"
      ],
      "execution_count": 14,
      "outputs": [
        {
          "output_type": "execute_result",
          "data": {
            "text/plain": [
              "<matplotlib.axes._subplots.AxesSubplot at 0x7f22a666b080>"
            ]
          },
          "metadata": {
            "tags": []
          },
          "execution_count": 14
        },
        {
          "output_type": "display_data",
          "data": {
            "image/png": "[encoded data removed]",
            "text/plain": [
              "<Figure size 432x288 with 1 Axes>"
            ]
          },
          "metadata": {
            "tags": [],
            "needs_background": "light"
          }
        }
      ]
    },
    {
      "cell_type": "code",
      "metadata": {
        "id": "Bs4a5xxjh8wj",
        "colab": {
          "base_uri": "https://localhost:8080/",
          "height": 704
        },
        "outputId": "aa0f693a-e1e2-47b1-d3c7-30a148d720af"
      },
      "source": [
        "# correlation\n",
        "corr = df_train.corr()\n",
        "\n",
        "plt.figure(figsize=(15,12))\n",
        "\n",
        "sns.heatmap(corr,square=True,annot = True)\n",
        "plt.show();\n",
        "\n",
        "#Wage (M), Potential, Overall are strongly correlated with target (Value (M))"
      ],
      "execution_count": 15,
      "outputs": [
        {
          "output_type": "display_data",
          "data": {
            "image/png": "[encoded data removed]",
            "text/plain": [
              "<Figure size 1080x864 with 2 Axes>"
            ]
          },
          "metadata": {
            "tags": [],
            "needs_background": "light"
          }
        }
      ]
    },
    {
      "cell_type": "markdown",
      "metadata": {
        "id": "X5VlDoC4WJxx"
      },
      "source": [
        "### Model building\n",
        "\n"
      ]
    },
    {
      "cell_type": "code",
      "metadata": {
        "id": "sjIIQ-L9WJxy",
        "colab": {
          "base_uri": "https://localhost:8080/"
        },
        "outputId": "d86076b4-b0f8-4847-9f49-96beac5c42b6"
      },
      "source": [
        "#Splitting training set\n",
        "X=df_train[['Potential','Overall','Wage (M)']]\n",
        "y=df_train['Value (M)']\n",
        "\n",
        "print(X.head())\n",
        "print(y.head())\n",
        "\n",
        "\n",
        "#we split 75% of the data to training set while 25% of the data to validation \n",
        "X_train, X_valid, y_train, y_valid = train_test_split(X, y, test_size=0.25, random_state=0)\n",
        "\n",
        "#X_train, X_valid shape\n",
        "print(X_train.shape)\n",
        "print(X_valid.shape)\n"
      ],
      "execution_count": 16,
      "outputs": [
        {
          "output_type": "stream",
          "text": [
            "   Potential  Overall  Wage (M)\n",
            "0         58       54     0.001\n",
            "1         73       64     0.010\n",
            "2         79       72     0.013\n",
            "3         66       57     0.002\n",
            "4         75       63     0.002\n",
            "0    0.07\n",
            "1    0.70\n",
            "2    3.70\n",
            "3    0.16\n",
            "4    0.55\n",
            "Name: Value (M), dtype: float64\n",
            "(10788, 3)\n",
            "(3596, 3)\n"
          ],
          "name": "stdout"
        }
      ]
    },
    {
      "cell_type": "code",
      "metadata": {
        "id": "RQwlWAi74Hmd"
      },
      "source": [
        "# Fitting Polynomial Feature to the dataset \n",
        "\n",
        "poly = PolynomialFeatures(degree = 2) \n",
        "X_train_poly = poly.fit_transform(X_train) \n",
        "X_valid_poly=poly.fit_transform(X_valid)"
      ],
      "execution_count": 17,
      "outputs": []
    },
    {
      "cell_type": "code",
      "metadata": {
        "id": "GbWa8tFCjDgD",
        "colab": {
          "base_uri": "https://localhost:8080/"
        },
        "outputId": "e750626f-f0fb-4d04-ee7f-6b3f0b5308ee"
      },
      "source": [
        "# fit the model\n",
        "linreg = LinearRegression()  \n",
        "linreg.fit(X_train_poly, y_train)\n",
        "\n",
        "# making predictions\n",
        "y_pred = linreg.predict(X_valid_poly)\n",
        "\n",
        "#Calculating Error\n",
        "rmse=np.sqrt(mean_squared_error(y_valid, y_pred))\n",
        "print(rmse)\n"
      ],
      "execution_count": 18,
      "outputs": [
        {
          "output_type": "stream",
          "text": [
            "1.3047088776573645\n"
          ],
          "name": "stdout"
        }
      ]
    },
    {
      "cell_type": "code",
      "metadata": {
        "id": "O3jWtVBVjcwI",
        "colab": {
          "base_uri": "https://localhost:8080/"
        },
        "outputId": "7ea069c8-78c6-46c6-b05d-59fd4fb01143"
      },
      "source": [
        "# R-squared calculation\n",
        "rsquared = r2_score(y_valid,y_pred)\n",
        "print(rsquared)"
      ],
      "execution_count": 19,
      "outputs": [
        {
          "output_type": "stream",
          "text": [
            "0.9201084796886321\n"
          ],
          "name": "stdout"
        }
      ]
    },
    {
      "cell_type": "markdown",
      "metadata": {
        "id": "4c5rgdbGWJx-"
      },
      "source": [
        "### Prediction on the test data and creating the sample submission file.\n",
        "\n"
      ]
    },
    {
      "cell_type": "code",
      "metadata": {
        "id": "B_dykUyQWJyB",
        "colab": {
          "base_uri": "https://localhost:8080/"
        },
        "outputId": "807d5bf8-c18a-46ed-f1a9-4dc6a5bd3703"
      },
      "source": [
        "#the Id column in a separate variable : test_id\n",
        "test_id = df_test['Id']\n",
        "df_test.drop(['Id'], axis=1, inplace=True) \n",
        "\n",
        "#Test data shape and columns names\n",
        "print(df_test.shape)\n",
        "print(df_test.columns)\n"
      ],
      "execution_count": 20,
      "outputs": [
        {
          "output_type": "stream",
          "text": [
            "(3597, 8)\n",
            "Index(['Name', 'Age', 'Nationality', 'Overall', 'Potential', 'Club',\n",
            "       'Wage (M)', 'Position'],\n",
            "      dtype='object')\n"
          ],
          "name": "stdout"
        }
      ]
    },
    {
      "cell_type": "code",
      "metadata": {
        "id": "MRI396xukKb8",
        "colab": {
          "base_uri": "https://localhost:8080/"
        },
        "outputId": "436b1dcc-9597-43f5-8a66-04e382f95741"
      },
      "source": [
        "#Features selected from test data\n",
        "X_test=df_test[['Potential','Overall','Wage (M)']]\n",
        "X_test_poly = poly.fit_transform(X_test) \n",
        "\n",
        "#make prediction : Value (M)\n",
        "ytest_pred=linreg.predict(X_test_poly)\n",
        "\n",
        "#Making df for submission\n",
        "subm=pd.DataFrame({\"Id\": test_id, \"Value (M)\": ytest_pred})\n",
        "print(subm.head())\n"
      ],
      "execution_count": 21,
      "outputs": [
        {
          "output_type": "stream",
          "text": [
            "      Id  Value (M)\n",
            "0    280  15.980812\n",
            "1    569  19.944447\n",
            "2   8731   1.335709\n",
            "3  10085   0.284167\n",
            "4   9831   0.719465\n"
          ],
          "name": "stdout"
        }
      ]
    },
    {
      "cell_type": "code",
      "metadata": {
        "id": "lMLVO52CkmV7"
      },
      "source": [
        "# To CSV for submission\n",
        "#subm.to_csv('submission_1.csv',index=False)\n",
        "\n",
        "#from google.colab import files\n",
        "#files.download('submission_1.csv') "
      ],
      "execution_count": 22,
      "outputs": []
    }
  ]
}
